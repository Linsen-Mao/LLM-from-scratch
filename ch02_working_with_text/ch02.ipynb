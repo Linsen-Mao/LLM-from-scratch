{
 "cells": [
  {
   "cell_type": "code",
   "id": "initial_id",
   "metadata": {
    "collapsed": true,
    "ExecuteTime": {
     "end_time": "2024-11-16T14:54:44.931764Z",
     "start_time": "2024-11-16T14:54:44.091840Z"
    }
   },
   "source": [
    "from importlib.metadata import version\n",
    "\n",
    "print(\"torch version:\", version(\"torch\"))\n",
    "print(\"tiktoken version:\", version(\"tiktoken\"))"
   ],
   "outputs": [
    {
     "name": "stdout",
     "output_type": "stream",
     "text": [
      "torch version: 2.5.1\n",
      "tiktoken version: 0.8.0\n"
     ]
    }
   ],
   "execution_count": 3
  },
  {
   "metadata": {
    "ExecuteTime": {
     "end_time": "2024-11-16T14:55:03.664281Z",
     "start_time": "2024-11-16T14:55:03.661982Z"
    }
   },
   "cell_type": "code",
   "source": [
    "from torch.utils.data import Dataset\n",
    "\n",
    "class GPTDataset(Dataset):\n",
    "    def __init__(self, txt, tokenizer, max_length, stride):\n",
    "        \n",
    "        #Tokenize the entire text\n",
    "        \n",
    "        #Use a sliding window to chunk the book into overlapping sequences of max_length\n",
    "        \n",
    "        pass\n",
    "    \n",
    "    def __getitem__(self, idx):\n",
    "        pass\n",
    "    \n",
    "    def __len__(self):\n",
    "        pass"
   ],
   "id": "6900bad0b9da688",
   "outputs": [],
   "execution_count": 7
  },
  {
   "metadata": {
    "ExecuteTime": {
     "end_time": "2024-11-16T15:00:16.084353Z",
     "start_time": "2024-11-16T15:00:16.082018Z"
    }
   },
   "cell_type": "code",
   "source": [
    "def create_dataloader(txt, batch_size=4, max_length=256, stride=128, shuffle=True,drop_last=True, num_workers=0):\n",
    "    \n",
    "    #Initialize the tokenizer\n",
    "\n",
    "    #create dataset\n",
    "    \n",
    "    #create dataloader\n",
    "    \n",
    "    pass"
   ],
   "id": "a780c9796a91130b",
   "outputs": [],
   "execution_count": 8
  },
  {
   "metadata": {},
   "cell_type": "markdown",
   "source": "<img src=\"https://sebastianraschka.com/images/LLMs-from-scratch-images/ch02_compressed/19.webp\" width=\"400px\">",
   "id": "16019d25ba9ed7a3"
  },
  {
   "metadata": {
    "ExecuteTime": {
     "end_time": "2024-11-16T15:06:09.054753Z",
     "start_time": "2024-11-16T15:06:09.052851Z"
    }
   },
   "cell_type": "code",
   "source": [
    "# Use the components that built before to implement the input embedding pipeline\n",
    "\n",
    "#read text\n",
    "\n",
    "#tokenize text\n",
    "\n",
    "#token_embedding_layer\n",
    "\n",
    "#pos_embedding_layer\n",
    "\n",
    "#token embeddings\n",
    "\n",
    "#pos embeddings\n",
    "\n",
    "#input embeddings"
   ],
   "id": "6fa9c224f0e4035b",
   "outputs": [],
   "execution_count": 10
  }
 ],
 "metadata": {
  "kernelspec": {
   "display_name": "Python 3",
   "language": "python",
   "name": "python3"
  },
  "language_info": {
   "codemirror_mode": {
    "name": "ipython",
    "version": 2
   },
   "file_extension": ".py",
   "mimetype": "text/x-python",
   "name": "python",
   "nbconvert_exporter": "python",
   "pygments_lexer": "ipython2",
   "version": "2.7.6"
  }
 },
 "nbformat": 4,
 "nbformat_minor": 5
}
