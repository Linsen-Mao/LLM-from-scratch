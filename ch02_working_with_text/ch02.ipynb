{
 "cells": [
  {
   "cell_type": "code",
   "id": "initial_id",
   "metadata": {
    "collapsed": true,
    "ExecuteTime": {
     "end_time": "2024-11-16T15:59:10.971436Z",
     "start_time": "2024-11-16T15:59:10.965864Z"
    }
   },
   "source": [
    "from importlib.metadata import version\n",
    "\n",
    "import torch\n",
    "from torch.distributed.autograd import context\n",
    "\n",
    "print(\"torch version:\", version(\"torch\"))\n",
    "print(\"tiktoken version:\", version(\"tiktoken\"))"
   ],
   "outputs": [
    {
     "name": "stdout",
     "output_type": "stream",
     "text": [
      "torch version: 2.5.1\n",
      "tiktoken version: 0.8.0\n"
     ]
    }
   ],
   "execution_count": 11
  },
  {
   "metadata": {
    "ExecuteTime": {
     "end_time": "2024-11-16T15:59:11.058179Z",
     "start_time": "2024-11-16T15:59:11.054864Z"
    }
   },
   "cell_type": "code",
   "source": [
    "from torch.utils.data import Dataset\n",
    "\n",
    "class GPTDataset(Dataset):\n",
    "    def __init__(self, txt, tokenizer, max_length, stride):\n",
    "        self.inputs_ids = []\n",
    "        self.targets_ids = []\n",
    "        \n",
    "        #Tokenize the entire text\n",
    "        token_ids = tokenizer.encode(txt,allowed_special={\"<|endoftext|>\"})\n",
    "        \n",
    "        #Use a sliding window to chunk the book into overlapping sequences of max_length\n",
    "        for i in range(0, len(token_ids) - max_length, stride):\n",
    "            input_chunk = token_ids[i:i + max_length]\n",
    "            target_chunk = token_ids[i + 1: i + max_length + 1]\n",
    "            \n",
    "            self.inputs_ids.append(torch.tensor(input_chunk))\n",
    "            self.targets_ids.append(torch.tensor(target_chunk))\n",
    "    \n",
    "    def __getitem__(self, idx):\n",
    "        return self.inputs_ids[idx], self.targets_ids[idx]\n",
    "    \n",
    "    def __len__(self):\n",
    "        return len(self.inputs_ids)"
   ],
   "id": "6900bad0b9da688",
   "outputs": [],
   "execution_count": 12
  },
  {
   "metadata": {
    "ExecuteTime": {
     "end_time": "2024-11-16T15:59:11.072678Z",
     "start_time": "2024-11-16T15:59:11.070260Z"
    }
   },
   "cell_type": "code",
   "source": [
    "import tiktoken\n",
    "from torch.utils.data import DataLoader\n",
    "\n",
    "def create_dataloader(txt, batch_size=4, max_length=256, stride=128, shuffle=True,drop_last=True, num_workers=0):\n",
    "    \n",
    "    #Initialize the tokenizer\n",
    "    tokenizer = tiktoken.get_encoding(\"gpt2\")\n",
    "\n",
    "    #create dataset\n",
    "    dataset = GPTDataset(txt, tokenizer, max_length, stride)\n",
    "    \n",
    "    #create dataloader\n",
    "    dataloader = DataLoader(dataset, batch_size=batch_size, shuffle=shuffle, drop_last=drop_last, num_workers=num_workers)\n",
    "    \n",
    "    return dataloader"
   ],
   "id": "a780c9796a91130b",
   "outputs": [],
   "execution_count": 13
  },
  {
   "metadata": {},
   "cell_type": "markdown",
   "source": "<img src=\"https://sebastianraschka.com/images/LLMs-from-scratch-images/ch02_compressed/19.webp\" width=\"400px\">",
   "id": "16019d25ba9ed7a3"
  },
  {
   "metadata": {
    "ExecuteTime": {
     "end_time": "2024-11-16T15:59:11.232803Z",
     "start_time": "2024-11-16T15:59:11.085675Z"
    }
   },
   "cell_type": "code",
   "source": [
    "import torch\n",
    "# Use the components that built before to implement the input embedding pipeline\n",
    "\n",
    "#read text\n",
    "with open(\"the-verdict.txt\",\"r\", encoding=\"utf-8\") as f:\n",
    "    raw_text = f.read()\n",
    "\n",
    "vocab_size = 50257\n",
    "output_dim = 256\n",
    "# context_length: This represents the maximum sequence length that the model can process. It ensures that for any position from 0 to context_length - 1, a unique positional embedding is available.\n",
    "context_length = 1024\n",
    "\n",
    "#token_embedding_layer\n",
    "token_embedding_layer = torch.nn.Embedding(vocab_size, output_dim)\n",
    "\n",
    "#pos_embedding_layer\n",
    "pos_embedding_layer = torch.nn.Embedding(context_length, output_dim)\n",
    "\n",
    "\n",
    "#token embeddings, pos embeddings, input embeddings\n",
    "max_length = 4\n",
    "dataloader = create_dataloader(raw_text, batch_size=8, max_length=max_length, stride=max_length)\n",
    "\n",
    "for batch in dataloader:\n",
    "    x, y = batch\n",
    "    \n",
    "    # Shape: (batch_size, max_length, output_dim)\n",
    "    token_embeddings = token_embedding_layer(x)\n",
    "    \n",
    "    # Shape: (max_length, output_dim) (broadcasted to match token_embeddings).\n",
    "    pos_embeddings = pos_embedding_layer(torch.arange(max_length))\n",
    "    \n",
    "    input_embeddings = token_embeddings + pos_embeddings\n",
    "    \n",
    "    break\n",
    "    \n",
    "print(input_embeddings.shape)"
   ],
   "id": "6fa9c224f0e4035b",
   "outputs": [
    {
     "name": "stdout",
     "output_type": "stream",
     "text": [
      "torch.Size([8, 4, 256])\n"
     ]
    }
   ],
   "execution_count": 14
  },
  {
   "metadata": {
    "ExecuteTime": {
     "end_time": "2024-11-16T15:59:11.248362Z",
     "start_time": "2024-11-16T15:59:11.246938Z"
    }
   },
   "cell_type": "code",
   "source": "",
   "id": "c579b754027f9626",
   "outputs": [],
   "execution_count": null
  }
 ],
 "metadata": {
  "kernelspec": {
   "display_name": "Python 3",
   "language": "python",
   "name": "python3"
  },
  "language_info": {
   "codemirror_mode": {
    "name": "ipython",
    "version": 2
   },
   "file_extension": ".py",
   "mimetype": "text/x-python",
   "name": "python",
   "nbconvert_exporter": "python",
   "pygments_lexer": "ipython2",
   "version": "2.7.6"
  }
 },
 "nbformat": 4,
 "nbformat_minor": 5
}
