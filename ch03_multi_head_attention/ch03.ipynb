{
 "cells": [
  {
   "cell_type": "code",
   "id": "initial_id",
   "metadata": {
    "collapsed": true,
    "ExecuteTime": {
     "end_time": "2024-11-16T16:21:57.994950Z",
     "start_time": "2024-11-16T16:21:57.159877Z"
    }
   },
   "source": [
    "from importlib.metadata import version\n",
    "import torch\n",
    "import torch.nn as nn\n",
    "print(\"torch version:\", version(\"torch\"))"
   ],
   "outputs": [
    {
     "name": "stdout",
     "output_type": "stream",
     "text": [
      "torch version: 2.5.1\n"
     ]
    }
   ],
   "execution_count": 5
  },
  {
   "metadata": {},
   "cell_type": "markdown",
   "source": "## Variant A: Simple implementation",
   "id": "41e3b51f9c297dcc"
  },
  {
   "metadata": {
    "ExecuteTime": {
     "end_time": "2024-11-16T16:21:59.636298Z",
     "start_time": "2024-11-16T16:21:59.632646Z"
    }
   },
   "cell_type": "code",
   "source": [
    "class CausalSelfAttention(nn.Module):\n",
    "    def __init__(self, d_in, d_out, context_length, dropout, qkv_bias=False):\n",
    "        super().__init__()\n",
    "        pass\n",
    "    \n",
    "    def forward(self, x):\n",
    "        #k,q,v\n",
    "        \n",
    "        #attn_scores, attn_weights\n",
    "        \n",
    "        pass"
   ],
   "id": "84244682930df7e6",
   "outputs": [],
   "execution_count": 6
  },
  {
   "metadata": {
    "ExecuteTime": {
     "end_time": "2024-11-16T16:23:06.687567Z",
     "start_time": "2024-11-16T16:23:06.683640Z"
    }
   },
   "cell_type": "code",
   "source": [
    "class MultiHeadAttentionWrapper(nn.Module):\n",
    "    def __init__(self, d_in, d_out, context_length, dropout, num_heads, qkv_bias=False):\n",
    "        pass\n",
    "    \n",
    "    def forward(self, x):\n",
    "        pass"
   ],
   "id": "9589c81cf648ccc4",
   "outputs": [],
   "execution_count": 7
  },
  {
   "metadata": {
    "ExecuteTime": {
     "end_time": "2024-11-16T16:23:22.818566Z",
     "start_time": "2024-11-16T16:23:22.815978Z"
    }
   },
   "cell_type": "code",
   "source": "#usage",
   "id": "687cbfebab46b233",
   "outputs": [],
   "execution_count": 8
  },
  {
   "metadata": {},
   "cell_type": "markdown",
   "source": "## Variant B: Alternative implementation\n",
   "id": "e7b9f9eaab3049f7"
  },
  {
   "metadata": {
    "ExecuteTime": {
     "end_time": "2024-11-16T16:24:42.593236Z",
     "start_time": "2024-11-16T16:24:42.590031Z"
    }
   },
   "cell_type": "code",
   "source": [
    "class MultiHeadAttention(nn.Module):\n",
    "    def __init__(self, d_in, d_out, context_length, dropout, num_heads, qkv_bias=False):   \n",
    "        pass\n",
    "    \n",
    "    def forward(self, x):\n",
    "        pass"
   ],
   "id": "3d8b5355a6406272",
   "outputs": [],
   "execution_count": 9
  },
  {
   "metadata": {},
   "cell_type": "code",
   "outputs": [],
   "execution_count": null,
   "source": "#usage",
   "id": "b50e4bf8a34ae168"
  }
 ],
 "metadata": {
  "kernelspec": {
   "display_name": "Python 3",
   "language": "python",
   "name": "python3"
  },
  "language_info": {
   "codemirror_mode": {
    "name": "ipython",
    "version": 2
   },
   "file_extension": ".py",
   "mimetype": "text/x-python",
   "name": "python",
   "nbconvert_exporter": "python",
   "pygments_lexer": "ipython2",
   "version": "2.7.6"
  }
 },
 "nbformat": 4,
 "nbformat_minor": 5
}
