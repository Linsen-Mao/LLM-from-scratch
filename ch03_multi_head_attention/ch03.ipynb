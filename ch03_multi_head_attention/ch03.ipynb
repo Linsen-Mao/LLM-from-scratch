{
 "cells": [
  {
   "cell_type": "code",
   "id": "initial_id",
   "metadata": {
    "collapsed": true,
    "ExecuteTime": {
     "end_time": "2024-11-16T18:12:51.643765Z",
     "start_time": "2024-11-16T18:12:51.640396Z"
    }
   },
   "source": [
    "from importlib.metadata import version\n",
    "import torch.nn as nn\n",
    "\n",
    "print(\"torch version:\", version(\"torch\"))"
   ],
   "outputs": [
    {
     "name": "stdout",
     "output_type": "stream",
     "text": [
      "torch version: 2.5.1\n"
     ]
    }
   ],
   "execution_count": 13
  },
  {
   "metadata": {
    "ExecuteTime": {
     "end_time": "2024-11-16T18:12:51.664945Z",
     "start_time": "2024-11-16T18:12:51.661989Z"
    }
   },
   "cell_type": "code",
   "source": [
    "from torch.utils.data import Dataset\n",
    "\n",
    "class GPTDataset(Dataset):\n",
    "    def __init__(self, txt, tokenizer, max_length, stride):\n",
    "        self.inputs_ids = []\n",
    "        self.targets_ids = []\n",
    "        \n",
    "        #Tokenize the entire text\n",
    "        token_ids = tokenizer.encode(txt,allowed_special={\"<|endoftext|>\"})\n",
    "        \n",
    "        #Use a sliding window to chunk the book into overlapping sequences of max_length\n",
    "        for i in range(0, len(token_ids) - max_length, stride):\n",
    "            input_chunk = token_ids[i:i + max_length]\n",
    "            target_chunk = token_ids[i + 1: i + max_length + 1]\n",
    "            \n",
    "            self.inputs_ids.append(torch.tensor(input_chunk))\n",
    "            self.targets_ids.append(torch.tensor(target_chunk))\n",
    "    \n",
    "    def __getitem__(self, idx):\n",
    "        return self.inputs_ids[idx], self.targets_ids[idx]\n",
    "    \n",
    "    def __len__(self):\n",
    "        return len(self.inputs_ids)"
   ],
   "id": "bcc8430580ade2d9",
   "outputs": [],
   "execution_count": 14
  },
  {
   "metadata": {
    "ExecuteTime": {
     "end_time": "2024-11-16T18:12:51.681327Z",
     "start_time": "2024-11-16T18:12:51.679063Z"
    }
   },
   "cell_type": "code",
   "source": [
    "import tiktoken\n",
    "from torch.utils.data import DataLoader\n",
    "\n",
    "def create_dataloader(txt, batch_size=4, max_length=256, stride=128, shuffle=True,drop_last=True, num_workers=0):\n",
    "    \n",
    "    #Initialize the tokenizer\n",
    "    tokenizer = tiktoken.get_encoding(\"gpt2\")\n",
    "\n",
    "    #create dataset\n",
    "    dataset = GPTDataset(txt, tokenizer, max_length, stride)\n",
    "    \n",
    "    #create dataloader\n",
    "    dataloader = DataLoader(dataset, batch_size=batch_size, shuffle=shuffle, drop_last=drop_last, num_workers=num_workers)\n",
    "    \n",
    "    return dataloader"
   ],
   "id": "662ad46aa7c0ff67",
   "outputs": [],
   "execution_count": 15
  },
  {
   "metadata": {
    "ExecuteTime": {
     "end_time": "2024-11-16T18:12:51.832701Z",
     "start_time": "2024-11-16T18:12:51.689337Z"
    }
   },
   "cell_type": "code",
   "source": [
    "import torch\n",
    "# Use the components that built before to implement the input embedding pipeline\n",
    "\n",
    "#read text\n",
    "with open(\"the-verdict.txt\",\"r\", encoding=\"utf-8\") as f:\n",
    "    raw_text = f.read()\n",
    "\n",
    "vocab_size = 50257\n",
    "output_dim = 256\n",
    "# context_length: This represents the maximum sequence length that the model can process. It ensures that for any position from 0 to context_length - 1, a unique positional embedding is available.\n",
    "context_length = 1024\n",
    "\n",
    "#token_embedding_layer\n",
    "token_embedding_layer = torch.nn.Embedding(vocab_size, output_dim)\n",
    "\n",
    "#pos_embedding_layer\n",
    "pos_embedding_layer = torch.nn.Embedding(context_length, output_dim)\n",
    "\n",
    "\n",
    "#token embeddings, pos embeddings, input embeddings\n",
    "max_length = 4\n",
    "dataloader = create_dataloader(raw_text, batch_size=8, max_length=max_length, stride=max_length)\n",
    "\n",
    "for batch in dataloader:\n",
    "    x, y = batch\n",
    "    \n",
    "    # Shape: (batch_size, max_length, output_dim)\n",
    "    token_embeddings = token_embedding_layer(x)\n",
    "    \n",
    "    # Shape: (max_length, output_dim) (broadcasted to match token_embeddings).\n",
    "    pos_embeddings = pos_embedding_layer(torch.arange(max_length))\n",
    "    \n",
    "    input_embeddings = token_embeddings + pos_embeddings\n",
    "    \n",
    "    break"
   ],
   "id": "4c80c27852a73230",
   "outputs": [],
   "execution_count": 16
  },
  {
   "metadata": {},
   "cell_type": "markdown",
   "source": "## Variant A: Simple implementation",
   "id": "41e3b51f9c297dcc"
  },
  {
   "metadata": {
    "ExecuteTime": {
     "end_time": "2024-11-16T18:12:51.844137Z",
     "start_time": "2024-11-16T18:12:51.840933Z"
    }
   },
   "cell_type": "code",
   "source": [
    "class CausalSelfAttention(nn.Module):\n",
    "    def __init__(self, d_in, d_out, context_length, dropout, qkv_bias=False):\n",
    "        super().__init__()\n",
    "        self.W_query = nn.Linear(d_in, d_out, bias=qkv_bias)\n",
    "        self.W_key = nn.Linear(d_in, d_out, bias=qkv_bias)\n",
    "        self.W_value = nn.Linear(d_in, d_out, bias=qkv_bias)\n",
    "        self.dropout = nn.Dropout(dropout)\n",
    "        self.register_buffer('mask', torch.triu(torch.ones(context_length, context_length), diagonal=1))\n",
    "    \n",
    "    def forward(self, x):\n",
    "        b, n_tokens, d_in = x.shape\n",
    "        #k,q,v\n",
    "        queries = self.W_query(x)\n",
    "        keys = self.W_key(x)\n",
    "        values = self.W_value(x)\n",
    "        \n",
    "        #attn_scores, attn_weights\n",
    "        attn_scores = queries @ keys.transpose(1,2)\n",
    "        attn_scores.masked_fill_(self.mask.bool()[:n_tokens,:n_tokens],-torch.inf)\n",
    "        attn_weights = torch.softmax(attn_scores / keys.shape[-1] ** 0.5, dim=-1)\n",
    "        attn_weights = self.dropout(attn_weights)\n",
    "        \n",
    "        # A context vector represents the aggregated information from the sequence for a specific token.\n",
    "        context_vec = attn_weights @ values\n",
    "        \n",
    "        return context_vec"
   ],
   "id": "84244682930df7e6",
   "outputs": [],
   "execution_count": 17
  },
  {
   "metadata": {
    "ExecuteTime": {
     "end_time": "2024-11-16T18:12:51.854465Z",
     "start_time": "2024-11-16T18:12:51.852211Z"
    }
   },
   "cell_type": "code",
   "source": [
    "class MultiHeadAttentionWrapper(nn.Module):\n",
    "    def __init__(self, d_in, d_out, context_length, dropout, num_heads, qkv_bias=False):\n",
    "        super().__init__()\n",
    "        self.heads = nn.ModuleList(\n",
    "            [CausalSelfAttention(d_in, d_out, context_length, dropout, qkv_bias) for _ in range(num_heads)]\n",
    "        )\n",
    "        self.out_proj = nn.Linear(d_out * num_heads, d_out * num_heads)\n",
    "    \n",
    "    def forward(self, x):\n",
    "        context_vec = torch.cat([head(x) for head in self.heads], dim=-1)\n",
    "        return self.out_proj(context_vec)"
   ],
   "id": "9589c81cf648ccc4",
   "outputs": [],
   "execution_count": 18
  },
  {
   "metadata": {
    "ExecuteTime": {
     "end_time": "2024-11-16T18:12:51.869420Z",
     "start_time": "2024-11-16T18:12:51.862131Z"
    }
   },
   "cell_type": "code",
   "source": [
    "#usage\n",
    "vocab_size = 50257\n",
    "output_dim = 256\n",
    "max_len = 1024\n",
    "\n",
    "context_length = max_len\n",
    "d_in = output_dim\n",
    "\n",
    "num_heads = 2\n",
    "d_out = d_in // num_heads\n",
    "\n",
    "\n",
    "mha = MultiHeadAttentionWrapper(d_in, d_out, context_length, 0.0, num_heads)\n",
    "\n",
    "batch = input_embeddings\n",
    "context_vecs = mha(batch)\n",
    "\n",
    "print(\"context_vecs.shape:\", context_vecs.shape)"
   ],
   "id": "687cbfebab46b233",
   "outputs": [
    {
     "name": "stdout",
     "output_type": "stream",
     "text": [
      "context_vecs.shape: torch.Size([8, 4, 256])\n"
     ]
    }
   ],
   "execution_count": 19
  },
  {
   "metadata": {},
   "cell_type": "markdown",
   "source": "## Variant B: Alternative implementation\n",
   "id": "e7b9f9eaab3049f7"
  },
  {
   "metadata": {
    "ExecuteTime": {
     "end_time": "2024-11-16T18:12:51.950868Z",
     "start_time": "2024-11-16T18:12:51.948414Z"
    }
   },
   "cell_type": "code",
   "source": [
    "class MultiHeadAttention(nn.Module):\n",
    "    def __init__(self, d_in, d_out, context_length, dropout, num_heads, qkv_bias=False):   \n",
    "        pass\n",
    "    \n",
    "    def forward(self, x):\n",
    "        pass"
   ],
   "id": "3d8b5355a6406272",
   "outputs": [],
   "execution_count": 20
  },
  {
   "metadata": {
    "ExecuteTime": {
     "end_time": "2024-11-16T18:12:51.963015Z",
     "start_time": "2024-11-16T18:12:51.961063Z"
    }
   },
   "cell_type": "code",
   "source": "#usage",
   "id": "b50e4bf8a34ae168",
   "outputs": [],
   "execution_count": 21
  }
 ],
 "metadata": {
  "kernelspec": {
   "display_name": "Python 3",
   "language": "python",
   "name": "python3"
  },
  "language_info": {
   "codemirror_mode": {
    "name": "ipython",
    "version": 2
   },
   "file_extension": ".py",
   "mimetype": "text/x-python",
   "name": "python",
   "nbconvert_exporter": "python",
   "pygments_lexer": "ipython2",
   "version": "2.7.6"
  }
 },
 "nbformat": 4,
 "nbformat_minor": 5
}
